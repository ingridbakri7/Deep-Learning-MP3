{
 "cells": [
  {
   "cell_type": "markdown",
   "metadata": {},
   "source": [
    "**You may need to install [OpenCV](https://pypi.python.org/pypi/opencv-python) and [scikit-video](http://www.scikit-video.org/stable/).**"
   ]
  },
  {
   "cell_type": "code",
   "execution_count": 1,
   "metadata": {},
   "outputs": [
    {
     "name": "stderr",
     "output_type": "stream",
     "text": [
      "/anaconda3/lib/python3.6/site-packages/h5py/__init__.py:36: FutureWarning: Conversion of the second argument of issubdtype from `float` to `np.floating` is deprecated. In future, it will be treated as `np.float64 == np.dtype(float).type`.\n",
      "  from ._conv import register_converters as _register_converters\n",
      "Using TensorFlow backend.\n"
     ]
    }
   ],
   "source": [
    "import keras\n",
    "import numpy as np\n",
    "import io\n",
    "import base64\n",
    "from IPython.display import HTML\n",
    "import skvideo.io\n",
    "import cv2\n",
    "import json\n",
    "import random as rd\n",
    "from collections import deque\n",
    "\n",
    "from keras.models import Sequential,model_from_json\n",
    "from keras.layers.core import Dense\n",
    "from keras.optimizers import sgd, Adam\n",
    "from keras.layers import Conv2D, MaxPooling2D, Activation, AveragePooling2D,Reshape,BatchNormalization, Flatten, Dropout"
   ]
  },
  {
   "cell_type": "markdown",
   "metadata": {},
   "source": [
    "# MiniProject #3: Deep Reinforcement Learning"
   ]
  },
  {
   "cell_type": "markdown",
   "metadata": {},
   "source": [
    "__Notations__: $E_p$ is the expectation under probability $p$. Please justify each of your answer and widely comment your code."
   ]
  },
  {
   "cell_type": "markdown",
   "metadata": {},
   "source": [
    "# Context"
   ]
  },
  {
   "cell_type": "markdown",
   "metadata": {},
   "source": [
    "In a reinforcement learning algorithm, we modelize each step $t$ as an action $a_t$ obtained from a state $s_t$, i.e. $\\{(a_{t},s_{t})_{t\\leq T}\\}$ having the Markov property. We consider a discount factor $\\gamma \\in [0,1]$ that ensures convergence. The goal is to find among all the policies $\\pi$, one that maximizes the expected reward:\n",
    "\n",
    "\\begin{equation*}\n",
    "R(\\pi)=\\sum_{t\\leq T}E_{p^{\\pi}}[\\gamma^t r(s_{t},a_{t})] \\> ,\n",
    "\\end{equation*}\n",
    "\n",
    "where: \n",
    "\\begin{equation*}p^{\\pi}(a_{0},a_{1},s_{1},...,a_{T},s_{T})=p(a_{0})\\prod_{t=1}^{T}\\pi(a_{t}|s_{t})p(s_{t+1}|s_{t},a_{t}) \\> .\n",
    "\\end{equation*}\n",
    "\n",
    "We note the $Q$-function:\n",
    "\n",
    "\\begin{equation*}Q^\\pi(s,a)=E_{p^{\\pi}}[\\sum_{t\\leq T}\\gamma^{t}r(s_{t},a_{t})|s_{0}=s,a_{0}=a] \\> .\n",
    "\\end{equation*}\n",
    "\n",
    "Thus, the optimal Q function is:\n",
    "\\begin{equation*}\n",
    "Q^*(s,a)=\\max_{\\pi}Q^\\pi(s,a) \\> .\n",
    "\\end{equation*}\n",
    "\n",
    "In this project, we will apply the deep reinforcement learning techniques to a simple game: an agent will have to learn from scratch a policy that will permit it maximizing a reward."
   ]
  },
  {
   "cell_type": "markdown",
   "metadata": {},
   "source": [
    "## The environment, the agent and the game"
   ]
  },
  {
   "cell_type": "markdown",
   "metadata": {},
   "source": [
    "### The environment"
   ]
  },
  {
   "cell_type": "markdown",
   "metadata": {},
   "source": [
    "```Environment``` is an abstract class that represents the states, rewards, and actions to obtain the new state."
   ]
  },
  {
   "cell_type": "code",
   "execution_count": 2,
   "metadata": {},
   "outputs": [],
   "source": [
    "class Environment(object):\n",
    "    def __init__(self):\n",
    "        pass\n",
    "\n",
    "    def act(self, act):\n",
    "        \"\"\"\n",
    "        One can act on the environment and obtain its reaction:\n",
    "        - the new state\n",
    "        - the reward of the new state\n",
    "        - should we continue the game?\n",
    "\n",
    "        :return: state, reward, game_over\n",
    "        \"\"\"\n",
    "        pass\n",
    "\n",
    "\n",
    "    def reset(self):\n",
    "        \"\"\"\n",
    "        Reinitialize the environment to a random state and returns\n",
    "        the original state\n",
    "\n",
    "        :return: state\n",
    "        \"\"\"\n",
    "        pass\n",
    "    \n",
    "    def draw(self):\n",
    "        \"\"\"\n",
    "        Visualize in the console or graphically the current state\n",
    "        \"\"\"\n",
    "        pass"
   ]
  },
  {
   "cell_type": "markdown",
   "metadata": {},
   "source": [
    "The method ```act``` allows to act on the environment at a given state $s_t$ (stored internally), via action $a_t$. The method will return the new state $s_{t+1}$, the reward $r(s_{t},a_{t})$ and determines if $t\\leq T$ (*game_over*).\n",
    "\n",
    "The method ```reset``` simply reinitializes the environment to a random state $s_0$.\n",
    "\n",
    "The method ```draw``` displays the current state $s_t$ (this is useful to check the behavior of the Agent).\n",
    "\n",
    "We modelize $s_t$ as a tensor, while $a_t$ is an integer."
   ]
  },
  {
   "cell_type": "markdown",
   "metadata": {},
   "source": [
    "### The Agent"
   ]
  },
  {
   "cell_type": "markdown",
   "metadata": {},
   "source": [
    "The goal of the ```Agent``` is to interact with the ```Environment``` by proposing actions $a_t$ obtained from a given state $s_t$ to attempt to maximize its __reward__ $r(s_t,a_t)$. We propose the following abstract class:"
   ]
  },
  {
   "cell_type": "code",
   "execution_count": 3,
   "metadata": {},
   "outputs": [],
   "source": [
    "class Agent(object):\n",
    "    def __init__(self, epsilon=0.1, n_action=4):\n",
    "        self.epsilon = epsilon\n",
    "        self.n_action = n_action\n",
    "    \n",
    "    def set_epsilon(self,e):\n",
    "        self.epsilon = e\n",
    "    \n",
    "    def get_epsilon(self):\n",
    "        return self.epsilon\n",
    "\n",
    "    def act(self,s,train=True):\n",
    "        \"\"\" This function should return the next action to do:\n",
    "        an integer between 0 and 4 (not included) with a random exploration of epsilon\"\"\"\n",
    "        if train:\n",
    "            if np.random.rand() <= self.epsilon:\n",
    "                a = np.random.randint(0, self.n_action, size=1)[0]\n",
    "            else:\n",
    "                a = self.learned_act(s)\n",
    "        else: # in some cases, this can improve the performance.. remove it if poor performances\n",
    "            a = self.learned_act(s)\n",
    "\n",
    "        return a\n",
    "\n",
    "    def learned_act(self,s):\n",
    "        \"\"\" Act via the policy of the agent, from a given state s\n",
    "        it proposes an action a\"\"\"\n",
    "        pass\n",
    "\n",
    "    def reinforce(self, s, n_s, a, r, game_over_):\n",
    "        \"\"\" This function is the core of the learning algorithm. \n",
    "        It takes as an input the current state s_, the next state n_s_\n",
    "        the action a_ used to move from s_ to n_s_ and the reward r_.\n",
    "        \n",
    "        Its goal is to learn a policy.\n",
    "        \"\"\"\n",
    "        pass\n",
    "\n",
    "    def save(self):\n",
    "        \"\"\" This function returns basic stats if applicable: the\n",
    "        loss and/or the model\"\"\"\n",
    "        pass\n",
    "\n",
    "    def load(self):\n",
    "        \"\"\" This function allows to restore a model\"\"\"\n",
    "        pass"
   ]
  },
  {
   "cell_type": "markdown",
   "metadata": {},
   "source": [
    "***\n",
    "__Question 1__:\n",
    "Explain the function act. Why is ```epsilon``` essential?"
   ]
  },
  {
   "cell_type": "markdown",
   "metadata": {},
   "source": [
    "Function ```act```: Given a state in a certain environment, this function will determine what will the next action be, based on a certain policy. However, a learned action will not take into consideration the probability of having a random action. By doing exploration it will check all the possible options and then choose the best one. This is where $\\epsilon$ has a role. It works as follows: A value is generated randomly, if it is less than $\\epsilon$, a random action is chosen, otherwise, the optimal max Q value will be chosen.\n"
   ]
  },
  {
   "cell_type": "markdown",
   "metadata": {},
   "source": [
    "***\n",
    "### The Game"
   ]
  },
  {
   "cell_type": "markdown",
   "metadata": {},
   "source": [
    "The ```Agent``` and the ```Environment``` work in an interlaced way as in the following (take some time to understand this code as it is the core of the project)\n",
    "\n",
    "```python\n",
    "\n",
    "epoch = 300\n",
    "env = Environment()\n",
    "agent = Agent()\n",
    "\n",
    "\n",
    "# Number of won games\n",
    "score = 0\n",
    "loss = 0\n",
    "\n",
    "\n",
    "for e in range(epoch):\n",
    "    # At each epoch, we restart to a fresh game and get the initial state\n",
    "    state = env.reset()\n",
    "    # This assumes that the games will end\n",
    "    game_over = False\n",
    "\n",
    "    win = 0\n",
    "    lose = 0\n",
    "    \n",
    "    while not game_over:\n",
    "        # The agent performs an action\n",
    "        action = agent.act(state)\n",
    "\n",
    "        # Apply an action to the environment, get the next state, the reward\n",
    "        # and if the games end\n",
    "        prev_state = state\n",
    "        state, reward, game_over = env.act(action)\n",
    "\n",
    "        # Update the counters\n",
    "        if reward > 0:\n",
    "            win = win + reward\n",
    "        if reward < 0:\n",
    "            lose = lose -reward\n",
    "\n",
    "        # Apply the reinforcement strategy\n",
    "        loss = agent.reinforce(prev_state, state,  action, reward, game_over)\n",
    "\n",
    "    # Save as a mp4\n",
    "    if e % 10 == 0:\n",
    "        env.draw(e)\n",
    "\n",
    "    # Update stats\n",
    "    score += win-lose\n",
    "\n",
    "    print(\"Epoch {:03d}/{:03d} | Loss {:.4f} | Win/lose count {}/{} ({})\"\n",
    "          .format(e, epoch, loss, win, lose, win-lose))\n",
    "    agent.save()\n",
    "```"
   ]
  },
  {
   "cell_type": "markdown",
   "metadata": {},
   "source": [
    "# The game, *eat cheese*"
   ]
  },
  {
   "cell_type": "markdown",
   "metadata": {},
   "source": [
    "A rat runs on an island and tries to eat as much as possible. The island is subdivided into $N\\times N$ cells, in which there are cheese (+0.5) and poisonous cells (-1). The rat has a visibility of 2 cells (thus it can see $5^2$ cells). The rat is given a time $T$ to accumulate as much food as possible. It can perform 4 actions: going up, down, left, right. \n",
    "\n",
    "The goal is to code an agent to solve this task that will learn by trial and error. We propose the following environment:"
   ]
  },
  {
   "cell_type": "code",
   "execution_count": 4,
   "metadata": {},
   "outputs": [],
   "source": [
    "class Environment(object):\n",
    "    def __init__(self, grid_size=10, max_time=500, temperature=0.1):\n",
    "        grid_size = grid_size+4\n",
    "        self.grid_size = grid_size\n",
    "        self.max_time = max_time\n",
    "        self.temperature = temperature\n",
    "\n",
    "        #board on which one plays\n",
    "        self.board = np.zeros((grid_size,grid_size))\n",
    "        self.position = np.zeros((grid_size,grid_size))\n",
    "\n",
    "        # coordinate of the cat\n",
    "        self.x = 0\n",
    "        self.y = 1\n",
    "\n",
    "        # self time\n",
    "        self.t = 0\n",
    "\n",
    "        self.scale=16\n",
    "\n",
    "        self.to_draw = np.zeros((max_time+2, grid_size*self.scale, grid_size*self.scale, 3))\n",
    "\n",
    "\n",
    "    def draw(self,e):\n",
    "        skvideo.io.vwrite(str(e) + '.mp4', self.to_draw)\n",
    "\n",
    "    def get_frame(self,t):\n",
    "        b = np.zeros((self.grid_size,self.grid_size,3))+128\n",
    "        b[self.board>0,0] = 256\n",
    "        b[self.board < 0, 2] = 256\n",
    "        b[self.x,self.y,:]=256\n",
    "        b[-2:,:,:]=0\n",
    "        b[:,-2:,:]=0\n",
    "        b[:2,:,:]=0\n",
    "        b[:,:2,:]=0\n",
    "        \n",
    "        b =  cv2.resize(b, None, fx=self.scale, fy=self.scale, interpolation=cv2.INTER_NEAREST)\n",
    "\n",
    "        self.to_draw[t,:,:,:]=b\n",
    "\n",
    "\n",
    "    def act(self, action):\n",
    "        \"\"\"This function returns the new state, reward and decides if the\n",
    "        game ends.\"\"\"\n",
    "\n",
    "        self.get_frame(int(self.t))\n",
    "\n",
    "        self.position = np.zeros((self.grid_size, self.grid_size))\n",
    "\n",
    "        self.position[0:2,:]= -1\n",
    "        self.position[:,0:2] = -1\n",
    "        self.position[-2:, :] = -1\n",
    "        self.position[:, -2:] = -1\n",
    "\n",
    "        self.position[self.x, self.y] = 1\n",
    "        \n",
    "        if action == 0:\n",
    "            if self.x == self.grid_size-3:\n",
    "                self.x = self.x-1\n",
    "            else:\n",
    "                self.x = self.x + 1\n",
    "        elif action == 1:\n",
    "            if self.x == 2:\n",
    "                self.x = self.x+1\n",
    "            else:\n",
    "                self.x = self.x-1\n",
    "        elif action == 2:\n",
    "            if self.y == self.grid_size - 3:\n",
    "                self.y = self.y - 1\n",
    "            else:\n",
    "                self.y = self.y + 1\n",
    "        elif action == 3:\n",
    "            if self.y == 2:\n",
    "                self.y = self.y + 1\n",
    "            else:\n",
    "                self.y = self.y - 1\n",
    "        else:\n",
    "            RuntimeError('Error: action not recognized')\n",
    "\n",
    "        self.t = self.t + 1\n",
    "        reward = self.board[self.x, self.y]\n",
    "        self.board[self.x, self.y] = 0\n",
    "        game_over = self.t > self.max_time\n",
    "        state = np.concatenate((self.board.reshape(self.grid_size, self.grid_size,1),\n",
    "                                self.position.reshape(self.grid_size, self.grid_size,1)),axis=2)\n",
    "        state = state[self.x-2:self.x+3,self.y-2:self.y+3,:]\n",
    "\n",
    "        return state, reward, game_over\n",
    "\n",
    "    def reset(self):\n",
    "        \"\"\"This function resets the game and returns the initial state\"\"\"\n",
    "\n",
    "        self.x = np.random.randint(3, self.grid_size-3, size=1)[0]\n",
    "        self.y = np.random.randint(3, self.grid_size-3, size=1)[0]\n",
    "\n",
    "\n",
    "        bonus = 0.5*np.random.binomial(1,self.temperature,size=self.grid_size**2)\n",
    "        bonus = bonus.reshape(self.grid_size,self.grid_size)\n",
    "\n",
    "        malus = -1.0*np.random.binomial(1,self.temperature,size=self.grid_size**2)\n",
    "        malus = malus.reshape(self.grid_size, self.grid_size)\n",
    "\n",
    "        self.to_draw = np.zeros((self.max_time+2, self.grid_size*self.scale, self.grid_size*self.scale, 3))\n",
    "\n",
    "\n",
    "        malus[bonus>0]=0\n",
    "\n",
    "        self.board = bonus + malus\n",
    "\n",
    "        self.position = np.zeros((self.grid_size, self.grid_size))\n",
    "        self.position[0:2,:]= -1\n",
    "        self.position[:,0:2] = -1\n",
    "        self.position[-2:, :] = -1\n",
    "        self.position[:, -2:] = -1\n",
    "        self.board[self.x,self.y] = 0\n",
    "        self.t = 0\n",
    "\n",
    "        state = np.concatenate((self.board.reshape(self.grid_size, self.grid_size,1),\n",
    "                                self.position.reshape(self.grid_size, self.grid_size,1)),axis=2)\n",
    "\n",
    "        state = state[self.x - 2:self.x + 3, self.y - 2:self.y + 3, :]\n",
    "        \n",
    "        return state"
   ]
  },
  {
   "cell_type": "markdown",
   "metadata": {},
   "source": [
    "The following elements are important because they correspond to the hyper parameters for this project:"
   ]
  },
  {
   "cell_type": "code",
   "execution_count": 5,
   "metadata": {},
   "outputs": [],
   "source": [
    "# parameters\n",
    "size = 13\n",
    "T=200\n",
    "temperature=0.3\n",
    "epochs_train=20 # set small when debugging\n",
    "epochs_test=20 # set small when debugging\n",
    "\n",
    "# display videos\n",
    "def display_videos(name):\n",
    "    video = io.open(name, 'r+b').read()\n",
    "    encoded = base64.b64encode(video)\n",
    "    return '''<video alt=\"test\" controls>\n",
    "                <source src=\"data:video/mp4;base64,{0}\" type=\"video/mp4\" />\n",
    "             </video>'''.format(encoded.decode('ascii'))"
   ]
  },
  {
   "cell_type": "markdown",
   "metadata": {},
   "source": [
    "__Question 2__ Explain the use of the arrays ```position``` and ```board```."
   ]
  },
  {
   "cell_type": "markdown",
   "metadata": {},
   "source": [
    "```position``` : Represents the current position of the rat on the board.\n",
    "\n",
    "```board``` : represents all the possible cells, this translates to the fact that ```board``` is a representation of all the possible states"
   ]
  },
  {
   "cell_type": "markdown",
   "metadata": {},
   "source": [
    "## Random Agent"
   ]
  },
  {
   "cell_type": "markdown",
   "metadata": {},
   "source": [
    "***\n",
    "__Question 3__ Implement a random Agent (only ```learned_act``` needs to be implemented):"
   ]
  },
  {
   "cell_type": "code",
   "execution_count": 6,
   "metadata": {},
   "outputs": [],
   "source": [
    "class RandomAgent(Agent):\n",
    "    def __init__(self):\n",
    "        super(RandomAgent, self).__init__()\n",
    "        pass\n",
    "\n",
    "    def learned_act(self, s):\n",
    "        return rd.randint(0,3)"
   ]
  },
  {
   "cell_type": "markdown",
   "metadata": {},
   "source": [
    "***\n",
    "***\n",
    "__Question 4__ Visualize the game moves. You need to fill in the following function for the evaluation:"
   ]
  },
  {
   "cell_type": "code",
   "execution_count": 7,
   "metadata": {},
   "outputs": [],
   "source": [
    "def test(agent,env,epochs,prefix=''):\n",
    "    # Number of won games\n",
    "    score = 0\n",
    "        \n",
    "    for e in range(epochs):\n",
    "        \n",
    "        # At each epoch, we restart to a fresh game and get the initial state\n",
    "        state = env.reset()\n",
    "        # This assumes that the games will end\n",
    "        game_over = False\n",
    "\n",
    "        win = 0\n",
    "        lose = 0\n",
    "\n",
    "        while not game_over:\n",
    "            # The agent performs an action\n",
    "            action = agent.learned_act(state)\n",
    "\n",
    "            # Apply an action to the environment, get the next state, the reward\n",
    "            # and if the games end\n",
    "            prev_state = state\n",
    "            state, reward, game_over = env.act(action)\n",
    "\n",
    "            # Update the counters\n",
    "            if reward > 0:\n",
    "                win = win + reward\n",
    "            if reward < 0:\n",
    "                lose = lose -reward\n",
    "\n",
    "        # Save as a mp4\n",
    "        env.draw(prefix+str(e))\n",
    "\n",
    "        # Update stats\n",
    "        score = score + win-lose\n",
    "\n",
    "        print(\"Win/lose count {}/{}. Average score ({})\"\n",
    "              .format(win, lose, score/(1+e)))\n",
    "    print('Final score: '+str(score/epochs))"
   ]
  },
  {
   "cell_type": "code",
   "execution_count": 8,
   "metadata": {},
   "outputs": [
    {
     "name": "stdout",
     "output_type": "stream",
     "text": [
      "Win/lose count 12.5/14.0. Average score (-1.5)\n",
      "Win/lose count 5.5/8.0. Average score (-2.0)\n",
      "Win/lose count 10.5/10.0. Average score (-1.1666666666666667)\n",
      "Win/lose count 11.5/10.0. Average score (-0.5)\n",
      "Win/lose count 12.0/20.0. Average score (-2.0)\n",
      "Win/lose count 10.0/21.0. Average score (-3.5)\n",
      "Win/lose count 12.5/7.0. Average score (-2.2142857142857144)\n",
      "Win/lose count 14.5/17.0. Average score (-2.25)\n",
      "Win/lose count 6.5/8.0. Average score (-2.1666666666666665)\n",
      "Win/lose count 11.0/11.0. Average score (-1.95)\n",
      "Win/lose count 3.5/18.0. Average score (-3.090909090909091)\n",
      "Win/lose count 11.0/15.0. Average score (-3.1666666666666665)\n",
      "Win/lose count 7.5/8.0. Average score (-2.9615384615384617)\n",
      "Win/lose count 12.0/14.0. Average score (-2.892857142857143)\n",
      "Win/lose count 10.0/7.0. Average score (-2.5)\n",
      "Win/lose count 6.5/10.0. Average score (-2.5625)\n",
      "Win/lose count 15.0/16.0. Average score (-2.4705882352941178)\n",
      "Win/lose count 8.0/9.0. Average score (-2.388888888888889)\n",
      "Win/lose count 8.5/9.0. Average score (-2.289473684210526)\n",
      "Win/lose count 13.5/6.0. Average score (-1.8)\n",
      "Final score: -1.8\n"
     ]
    },
    {
     "data": {
      "text/html": [
       "<video alt=\"test\" controls>\n",
       "                <source src=\"data:video/mp4;base64,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\" type=\"video/mp4\" />\n",
       "             </video>"
      ],
      "text/plain": [
       "<IPython.core.display.HTML object>"
      ]
     },
     "execution_count": 8,
     "metadata": {},
     "output_type": "execute_result"
    }
   ],
   "source": [
    "# Initialize the game\n",
    "env = Environment(grid_size=size, max_time=T,temperature=temperature)\n",
    "\n",
    "# Initialize the agent!\n",
    "agent = RandomAgent()\n",
    "\n",
    "test(agent,env,epochs_test,prefix='random')\n",
    "HTML(display_videos('random0.mp4'))"
   ]
  },
  {
   "cell_type": "markdown",
   "metadata": {},
   "source": [
    "***\n",
    "## DQN"
   ]
  },
  {
   "cell_type": "markdown",
   "metadata": {},
   "source": [
    "Let us assume here that $T=\\infty$.\n",
    "\n",
    "***\n",
    "__Question 5__ Let $\\pi$ be a policy, show that:\n",
    "\n",
    "\\begin{equation*}\n",
    "Q^{\\pi}(s,a)=E_{(s',a')\\sim p(.|s,a)}[r(s,a)+\\gamma Q^{\\pi}(s',a')]\n",
    "\\end{equation*}\n",
    "\n",
    "Then, show that for the optimal policy $\\pi^*$ (we assume its existence), the following holds: \n",
    "\n",
    "\\begin{equation*}\n",
    "Q^{*}(s,a)=E_{s'\\sim \\pi^*(.|s,a)}[r(s,a)+\\gamma\\max_{a'}Q^{*}(s',a')].\n",
    "\\end{equation*}\n",
    "Finally, deduce that a plausible objective is:\n",
    "\n",
    "\\begin{equation*}\n",
    "\\mathcal{L}(\\theta)=E_{s' \\sim \\pi^*(.|s,a)}\\Vert r+\\gamma\\max\\max_{a'}Q(s',a',\\theta)-Q(s,a,\\theta)\\Vert^{2}.\n",
    "\\end{equation*}\n",
    "\n",
    "\n"
   ]
  },
  {
   "cell_type": "markdown",
   "metadata": {},
   "source": [
    "**ANSWER**\n",
    "\n",
    "The bellman equation is given as follows:\n",
    "\\begin{equation*}\n",
    "Q^{\\pi}(s,a)  = E_{\\pi}[\\Sigma^{\\infty}_{t=0} \\gamma^t r_t(s_t, \\pi(s_t),s_{t+1}) | s_t = s,a_t = a] \\\\\n",
    "\\end{equation*}\n",
    "\n",
    "Using the Markov Property, we can take the first element of the sum outside, we will be left with:\n",
    "\n",
    "\\begin{align*}\n",
    "Q^{\\pi}(s_0,a_0) & = E_{\\pi}[r_0(s_0,a_0,s_1)+\\Sigma^{\\infty}_{t=1} \\gamma^t r_t (s_t,\\pi(s_t),s_{t+1}) | s_0,a_0 ] \\\\\n",
    "& = E_{\\pi}[r_0(s_0,a_0,s_1) + \\gamma E_{\\pi} \\{ \\Sigma_{t=1}^{\\infty} \\gamma^{t-1} r_t (s_t,\\pi(s_t),s_{t+1} | s_1,a_1 \\} s_0,a_0 ] \\\\\n",
    "& = E_{\\pi} [r_0 (s_0,a_0,s_1)+\\gamma Q^{\\pi}(s_1,a_1)] \\\\\n",
    "& = E_{(s',a') \\sim p(.|s,a)} [r(s,a)+\\gamma Q^{\\pi}(s',a')]\n",
    "\\end{align*}\n",
    "\n",
    "Given an ultimate policy $\\pi^*$ , the optimal Q function can be written as:\n",
    "\n",
    "\\begin{equation*}\n",
    "Q^*(s,a)=\\max_{\\pi}Q^\\pi(s,a) \\> \n",
    "\\end{equation*}\n",
    "\n",
    "Using the previous equation that we derived in the first step:\n",
    "\n",
    "\\begin{equation*}\n",
    "Q^*(s,a)= \\max_{\\pi} E_{(s',a')\\sim p(.|s,a)}[r(s,a)+\\gamma Q^{\\pi}(s',a')] \\> \n",
    "\\end{equation*}\n",
    "\n",
    "\\begin{equation*}\n",
    "Q^*(s,a)= E_{s'\\sim \\pi^*(.|s,a)}[r(s,a)+\\gamma Q^{\\pi^*}(s',a')] \\> \n",
    "\\end{equation*}\n",
    "\n",
    "\\begin{equation*}\n",
    "Q^*(s,a)= E_{s'\\sim \\pi^*(.|s,a)}[r(s,a)+\\gamma\\max_{a'}Q^{*}(s',a')].\n",
    "\\end{equation*}\n",
    "\n",
    "\n",
    "\n",
    "Given the loss function $\\mathcal{L}(\\theta)= [Q^*(s,a,\\theta) - Q(s,a,\\theta)]^2$\n",
    "\n",
    "$$\\mathcal{L}(\\theta) = [E_{s'\\sim \\pi^*(.|s,a,s')}[r(s,a,s')+\\gamma\\max_{a'}Q^{*}(s',a,\\theta)] - Q(s,a,\\theta)]^2$$\n",
    "$$ {\\mathcal{L}(\\theta)=E_{s' \\sim \\pi^*(.|s,a)}\\Vert r+\\gamma\\max\\max_{a'}Q(s',a',\\theta)-Q(s,a,\\theta)\\Vert^{2}} $$"
   ]
  },
  {
   "cell_type": "markdown",
   "metadata": {},
   "source": [
    "***\n",
    "The DQN-learning algorithm relies on these derivations to train the parameters $\\theta$ of a Deep Neural Network:\n",
    "\n",
    "1. At the state $s_t$, select the action $a_t$ with best reward using $Q_t$ and store the results;\n",
    "\n",
    "2. Obtain the new state $s_{t+1}$ from the environment $p$;\n",
    "\n",
    "3. Store $(s_t,a_t,s_{t+1})$;\n",
    "\n",
    "4. Obtain $Q_{t+1}$ by minimizing  $\\mathcal{L}$ from a recovered batch from the previously stored results.\n",
    "\n",
    "***\n",
    "__Question 6__ Implement the class ```Memory``` that stores moves (in a replay buffer) via ```remember``` and provides a ```random_access``` to these. Specify a maximum memory size to avoid side effects. You can for example use a ```list()``` and set by default ```max_memory=100```."
   ]
  },
  {
   "cell_type": "code",
   "execution_count": 9,
   "metadata": {},
   "outputs": [],
   "source": [
    "class Memory(object):\n",
    "    def __init__(self, max_memory=100):\n",
    "        self.max_memory = max_memory\n",
    "        self.memory = list()\n",
    "\n",
    "    def remember(self, m):\n",
    "        self.memory.append(m)\n",
    "\n",
    "    def random_access(self): \n",
    "        return self.memory[rd.randint(0,len(self.memory)-1)]"
   ]
  },
  {
   "cell_type": "markdown",
   "metadata": {},
   "source": [
    "***\n",
    "The pipeline we will use for training is given below:"
   ]
  },
  {
   "cell_type": "code",
   "execution_count": 10,
   "metadata": {},
   "outputs": [],
   "source": [
    "def train(agent,env,epoch,prefix=''):\n",
    "    # Number of won games\n",
    "    score = 0\n",
    "    loss = 0\n",
    "\n",
    "    for e in range(epoch):\n",
    "        # At each epoch, we restart to a fresh game and get the initial state\n",
    "        state = env.reset()\n",
    "        # This assumes that the games will terminate\n",
    "        game_over = False\n",
    "\n",
    "        win = 0\n",
    "        lose = 0\n",
    "\n",
    "        while not game_over:\n",
    "            # The agent performs an action\n",
    "            action = agent.act(state)\n",
    "\n",
    "            # Apply an action to the environment, get the next state, the reward\n",
    "            # and if the games end\n",
    "            prev_state = state\n",
    "            state, reward, game_over = env.act(action)\n",
    "\n",
    "            # Update the counters\n",
    "            if reward > 0:\n",
    "                win = win + reward\n",
    "            if reward < 0:\n",
    "                lose = lose -reward\n",
    "\n",
    "            # Apply the reinforcement strategy\n",
    "            loss = agent.reinforce(prev_state, state,  action, reward, game_over)\n",
    "\n",
    "        # Save as a mp4\n",
    "        if e % 10 == 0:\n",
    "            env.draw(prefix+str(e))\n",
    "\n",
    "        # Update stats\n",
    "        score += win-lose\n",
    "\n",
    "        print(\"Epoch {:03d}/{:03d} | Loss {:.4f} | Win/lose count {}/{} ({})\"\n",
    "              .format(e, epoch, loss, win, lose, win-lose))\n",
    "        agent.save(name_weights=prefix+'model.h5',name_model=prefix+'model.json')"
   ]
  },
  {
   "cell_type": "markdown",
   "metadata": {},
   "source": [
    "***\n",
    "__Question 7__ Implement the DQN training algorithm using a cascade of fully connected layers. You can use different learning rate, batch size or memory size parameters. In particular, the loss might oscillate while the player will start to win the games. You have to find a good criterium."
   ]
  },
  {
   "cell_type": "code",
   "execution_count": 11,
   "metadata": {},
   "outputs": [],
   "source": [
    "class DQN(Agent):\n",
    "    def __init__(self, grid_size,  epsilon = 0.1, memory_size=100, batch_size = 16,n_state=2):\n",
    "        super(DQN, self).__init__(epsilon = epsilon)\n",
    "\n",
    "        # Discount for Q learning\n",
    "        self.discount = 0.99\n",
    "        \n",
    "        self.grid_size = grid_size\n",
    "        \n",
    "        # number of state\n",
    "        self.n_state = n_state\n",
    "\n",
    "        # Memory\n",
    "        self.memory = Memory(memory_size)\n",
    "        \n",
    "        # Batch size when learning\n",
    "        self.batch_size = batch_size\n",
    "\n",
    "    def learned_act(self, s):\n",
    "        s = np.reshape(s,[1,5,5,self.n_state])\n",
    "        pred = self.model.predict (s) \n",
    "        return np.argmax(pred[0])\n",
    "\n",
    "    def reinforce(self, s_, n_s_, a_, r_, game_over_):\n",
    " # Two steps: first memorize the states, second learn from the pool\n",
    "\n",
    "        s_ = np.reshape(s_,[1,5,5,self.n_state])\n",
    "        n_s_ = np.reshape(n_s_,[1,5,5,self.n_state])\n",
    "        \n",
    "        self.memory.remember([s_, n_s_, a_, r_, game_over_])\n",
    "        input_states = np.zeros((self.batch_size, 5,5,self.n_state))\n",
    "    \n",
    "        \n",
    "        target_q = np.zeros((self.batch_size, 4))\n",
    "\n",
    "        for i in range(self.batch_size):\n",
    "            target = r_\n",
    "            s_, n_s_,a_, r_, game_over_ = self.memory.random_access()\n",
    "            input_states[i]= s_\n",
    "            \n",
    "            if game_over_:\n",
    "                target= r_\n",
    "\n",
    "            else:               \n",
    "                target = (r_ + self.discount * np.amax(self.model.predict(n_s_)[0]))\n",
    "                \n",
    "            target_f = self.model.predict(s_)\n",
    "            target_f[0][a_] = target\n",
    "            self.model.fit(s_, target_f, epochs=1, verbose=0)\n",
    "            \n",
    "            target_q[i]=target_f\n",
    "            \n",
    "        # HINT: Clip the target to avoid exploiding gradients.. -- clipping is a bit tighter\n",
    "        target_q = np.clip(target_q, -3, 3)\n",
    "\n",
    "        l = self.model.train_on_batch(input_states, target_q)\n",
    "\n",
    "        return l\n",
    "\n",
    "    def save(self,name_weights='model.h5',name_model = 'model.json'):\n",
    "        self.model.save_weights(name_weights, overwrite=True)\n",
    "        with open(name_model, \"w\") as outfile:\n",
    "            json.dump(self.model.to_json(), outfile)\n",
    "            \n",
    "    def load(self,name_weights='model.h5',name_model='model.json'):\n",
    "        with open(name_model, \"r\") as jfile:\n",
    "            model = model_from_json(json.load(jfile))\n",
    "        model.load_weights(name_weights)\n",
    "        model.compile(\"sgd\", \"mse\")\n",
    "        self.model = model\n",
    "\n",
    "            \n",
    "class DQN_FC(DQN):\n",
    "    def __init__(self, *args, lr=0.1,**kwargs):\n",
    "        super(DQN_FC, self).__init__( *args,**kwargs)\n",
    "        \n",
    "        # NN Model\n",
    "        \n",
    "        ####### FILL IN\n",
    "        \n",
    "        model = Sequential()\n",
    "        model.add(Reshape((5*5*self.n_state,), input_shape=(5,5,self.n_state)))\n",
    "        model.add(Dense(128,input_shape=(50,),init='uniform',activation='relu'))\n",
    "        model.add(Dense(64,init='uniform',activation='relu'))\n",
    "        model.add(Dense(32,init='uniform',activation='relu'))\n",
    "        model.add(Dense(16,activation='relu'))\n",
    "        model.add(Dense(8,activation='relu'))\n",
    "        model.add(Dense(4,init='uniform',activation='linear'))\n",
    "        model.compile(sgd(lr=lr, decay=1e-4, momentum=0.0), \"mse\")\n",
    "        self.model = model\n",
    "        "
   ]
  },
  {
   "cell_type": "code",
   "execution_count": 12,
   "metadata": {},
   "outputs": [
    {
     "name": "stderr",
     "output_type": "stream",
     "text": [
      "/anaconda3/lib/python3.6/site-packages/ipykernel_launcher.py:83: UserWarning: Update your `Dense` call to the Keras 2 API: `Dense(128, input_shape=(50,), activation=\"relu\", kernel_initializer=\"uniform\")`\n",
      "/anaconda3/lib/python3.6/site-packages/ipykernel_launcher.py:84: UserWarning: Update your `Dense` call to the Keras 2 API: `Dense(64, activation=\"relu\", kernel_initializer=\"uniform\")`\n",
      "/anaconda3/lib/python3.6/site-packages/ipykernel_launcher.py:85: UserWarning: Update your `Dense` call to the Keras 2 API: `Dense(32, activation=\"relu\", kernel_initializer=\"uniform\")`\n",
      "/anaconda3/lib/python3.6/site-packages/ipykernel_launcher.py:88: UserWarning: Update your `Dense` call to the Keras 2 API: `Dense(4, activation=\"linear\", kernel_initializer=\"uniform\")`\n"
     ]
    },
    {
     "name": "stdout",
     "output_type": "stream",
     "text": [
      "Epoch 000/020 | Loss 0.0116 | Win/lose count 5.5/8.0 (-2.5)\n",
      "Epoch 001/020 | Loss 0.0245 | Win/lose count 7.5/3.0 (4.5)\n",
      "Epoch 002/020 | Loss 0.0281 | Win/lose count 11.5/20.0 (-8.5)\n",
      "Epoch 003/020 | Loss 0.0055 | Win/lose count 7.5/15.0 (-7.5)\n",
      "Epoch 004/020 | Loss 0.0180 | Win/lose count 4.5/9.0 (-4.5)\n",
      "Epoch 005/020 | Loss 0.0164 | Win/lose count 2.0/5.0 (-3.0)\n",
      "Epoch 006/020 | Loss 0.0793 | Win/lose count 7.5/9.0 (-1.5)\n",
      "Epoch 007/020 | Loss 0.0244 | Win/lose count 4.0/6.0 (-2.0)\n",
      "Epoch 008/020 | Loss 0.0473 | Win/lose count 5.5/4.0 (1.5)\n",
      "Epoch 009/020 | Loss 0.0097 | Win/lose count 2.0/5.0 (-3.0)\n",
      "Epoch 010/020 | Loss 0.0185 | Win/lose count 6.5/5.0 (1.5)\n",
      "Epoch 011/020 | Loss 0.0214 | Win/lose count 7.0/7.0 (0.0)\n",
      "Epoch 012/020 | Loss 0.0142 | Win/lose count 2.0/5.0 (-3.0)\n",
      "Epoch 013/020 | Loss 0.0091 | Win/lose count 4.0/1.0 (3.0)\n",
      "Epoch 014/020 | Loss 0.0294 | Win/lose count 2.0/2.0 (0.0)\n",
      "Epoch 015/020 | Loss 0.0063 | Win/lose count 4.5/5.0 (-0.5)\n",
      "Epoch 016/020 | Loss 0.0122 | Win/lose count 8.0/4.0 (4.0)\n",
      "Epoch 017/020 | Loss 0.0048 | Win/lose count 2.0/7.0 (-5.0)\n",
      "Epoch 018/020 | Loss 0.0125 | Win/lose count 10.0/9.0 (1.0)\n",
      "Epoch 019/020 | Loss 0.0147 | Win/lose count 5.0/4.0 (1.0)\n"
     ]
    },
    {
     "data": {
      "text/html": [
       "<video alt=\"test\" controls>\n",
       "                <source src=\"data:video/mp4;base64,AAAAIGZ0eXBpc29tAAACAGlzb21pc28yYXZjMW1wNDEAAAAIZnJlZQAAF8FtZGF0AAACnwYF//+b3EXpvebZSLeWLNgg2SPu73gyNjQgLSBjb3JlIDE1MiAtIEguMjY0L01QRUctNCBBVkMgY29kZWMgLSBDb3B5bGVmdCAyMDAzLTIwMTcgLSBodHRwOi8vd3d3LnZpZGVvbGFuLm9yZy94MjY0Lmh0bWwgLSBvcHRpb25zOiBjYWJhYz0xIHJlZj0zIGRlYmxvY2s9MTowOjAgYW5hbHlzZT0weDE6MHgxMTEgbWU9aGV4IHN1Ym1lPTcgcHN5PTEgcHN5X3JkPTEuMDA6MC4wMCBtaXhlZF9yZWY9MSBtZV9yYW5nZT0xNiBjaHJvbWFfbWU9MSB0cmVsbGlzPTEgOHg4ZGN0PTAgY3FtPTAgZGVhZHpvbmU9MjEsMTEgZmFzdF9wc2tpcD0xIGNocm9tYV9xcF9vZmZzZXQ9NCB0aHJlYWRzPTYgbG9va2FoZWFkX3RocmVhZHM9MSBzbGljZWRfdGhyZWFkcz0wIG5yPTAgZGVjaW1hdGU9MSBpbnRlcmxhY2VkPTAgYmx1cmF5X2NvbXBhdD0wIGNvbnN0cmFpbmVkX2ludHJhPTAgYmZyYW1lcz0zIGJfcHlyYW1pZD0yIGJfYWRhcHQ9MSBiX2JpYXM9MCBkaXJlY3Q9MSB3ZWlnaHRiPTEgb3Blbl9nb3A9MCB3ZWlnaHRwPTIga2V5aW50PTI1MCBrZXlpbnRfbWluPTI1IHNjZW5lY3V0PTQwIGludHJhX3JlZnJlc2g9MCByY19sb29rYWhlYWQ9NDAgcmM9Y3JmIG1idHJlZT0xIGNyZj0yMy4wIHFjb21wPTAuNjAgcXBtaW49MCBxcG1heD02OSBxcHN0ZXA9NCBpcF9yYXRpbz0xLjQwIGFxPTE6MS4wMACAAAADHGWIhAAz//72hvgU2FMj/k+//CP/uR+3H1n64sZCCb61XkPRgDJfGv+ZRmGl6cnPLe0fr0zQBGc/GUvKWP7KPDZR3ydCjsvgUuAor4FNJkXY4IvY1ZzFRlKUWBOK/XOruW06midaPxsNJgO5fQSZgnynpkdUStWq1yWnn5qx9hbvNEFbOCfgjGy7JsGUmo6n4ULlOAmNBV1Xvb4Ogk4OA8tXSd16TMxzKycB5ae+bQrs1Ov1Pge0oxz/Wae9MJdK0usEpJnOvYjeZUOHY2V8U8NmUp8OZgh+zgWH/+8C2PpQWUhHtx2oLm3OLTUHCadoQ7heQ8l+gsNFCG9Oh62Kb55orEQDb/RaDrCUOejdtdW7ltkoRXQT8P+dPgu5LKz7oLtyK1y2JlPwJSFIZsvL50RFYmTM/j/Jp6GxqRi2yinseVYI7LQh5wd8kgTohOFcy+gnVm5h+duzjCfuJ2zDqxrnmwdJFB5t8oZItOhXSQ8KPGBRpZ1/uIqoOLCWFxDZHXZPO8P+HlZPhjCjR/Y1XSjN6hC3TGkz9mFt5oq/TfgOGiwA2gZw+bGdk++zYCSywLg4h8V11BEpHs9lpoxZy3bcglVndK6ApJ+MSHWG/do70FRbT6Qv97Sr+UrDQhdFABAoGdGvtPzFjrt49i2wXlPxcd/auhqP36SCZdkkpplm7YT5zd09VGMIsA0/Kc4QBuRfPA8Lnz+4LRGfQc6Kz61RKtT4nOuxs1s7AfTTvO6XcDDpNFH5/SLsxUwamKLxQJUE6uUAKjeTjbAAyryw6X1A+GD6V9sZFw+VQBKEcAFs7YN767tejKegoObolg5i8FJoMXZ8iuU1ZStUlxhlSDWwW9TNn3L9EWeQOSmiAgqC+MrD95czxoTrVYf8iti2VB16QhcXXpWDH74gG3LCSLigCkBCAKlsKXqgLCZEt8MbD2jqoSOWdQ9FoiznmtZnLdVxXz9MB4x/bMQQIvTwMJOhITDFZMEibKUJNGgp8ABcsIahnMhAv75Aahpa10IcTyDqq2DvjsH2W0UzK4GQ5CQAiYds6hgNoAAAHJEAAAATQZohbEM//p4QAHEhef4GTjgN3QAAABdBmkI8IZMphDP//p4QAEm+If2yGPrDdwAAABhBmmNJ4Q8mUwIZ//6eEAAv/r7+RIj6xD4AAAAYQZqESeEPJlMCGf/+nhAAHn9ffyJEfWK9AAAAGEGapUnhDyZTAhv//qeEAAUj3U4/w+rckwAAABlBmsZJ4Q8mUwIb//6nhAAHlOM/1W+Y/HZhAAAAHUGa6knhDyZTAhv//qeEAAw7q1TH+rdvwGATX6+bAAAAEkGfCEURPC//AAdBOne2lQ8nkgAAABABnyd0Qr8ABnHk3lbKHvlAAAAAEAGfKWpCvwAJ9Y8cr+3ERsEAAAAaQZsrSahBaJlMCG///qeEAAxPsH+E4LdCtEAAAAAZQZtOSeEKUmUwIZ/+nhAAL7TVTnxA4f4h8AAAABBBn2xFNEwr/wAJ9Y8CFjatAAAADgGfjWpCvwAJ9Y9dP1atAAAAGUGbj0moQWiZTAhv//6nhAAS1AFm2MUJi8EAAAAYQZuySeEKUmUwIZ/+nhAASb4h51ugZIs0AAAAEkGf0EU0TCv/ABfoaXd39IsoQAAAABABn/FqQr8AF+I7c60ML2XBAAAAGUGb80moQWiZTAhn//6eEABHviHnW6Bki1QAAAAZQZoUSeEKUmUwIb/+p4QAG5pE/1W+Y/E7oAAAAB9BmjZJ4Q6JlMFNEwz//p4QAKNXuuI5/SO/v2e7TJJhAAAAEAGeVWpCvwAhu0Qm4z69QAgAAAAXQZpXSeEPJlMCGf/+nhAA+BTjn6X9yjcAAAAYQZp4SeEPJlMCG//+p4QAZGkT/UpAKpBBAAAAHkGamknhDyZTBRE8M//+nhACSiHOmwXojsfDE/m7SQAAABABnrlqQr8AfF+BzmV1pQsxAAAAG0Gau0nhDyZTAhn//p4QA4RTjn8OfEBTP1lWwAAAABhBmtxJ4Q8mUwIb//6nhAFyGGNTwjUffMEAAAAXQZr+SeEPJlMFETw3//6nhAOlvs+lwXcAAAAPAZ8dakK/AcY1DoWjadVAAAAAGEGbH0nhDyZTAhv//qeEAX8+Y8jE/xtxtQAAAB9BmyNJ4Q8mUwIb//6nhAGC8dPsL5uVwd/ZiMjOaCvhAAAAEkGfQUURPC//ANyIpHKp7GO/gAAAABABn2B0Qr8BLnZjgPyf/nPhAAAAGgGfYmpCvwB907TmWUSgjmV6LTmWPVyS5VbQAAAAGkGbZEmoQWiZTAhv//6nhADsHGf6rfMfiDehAAAAHkGbhknhClJlMFESw3/+p4QA8vvs92y6geHFkKc9ZQAAABABn6VqQr8AyLNzXHiraPfhAAAAGUGbp0nhDomUwId//qmWAFJ0srjNL+2AVcEAAAAcQZvLSeEPJlMCG//+p4QA8awFm3UeOng83XsW9AAAABFBn+lFETwv/wCS5/AaO0+NxAAAAA4Bngh0Qr8Ahu47zzi1JwAAABABngpqQr8AyLtwm4z69Nf4AAAAGkGaDkmoQWiZTAhv//6nhADy++z6jjQkODZgAAAAEkGeLEURLCv/AMiR251k+TakgQAAAA4Bnk1qQr8AyNiF3vUgHwAAABlBmk9JqEFsmUwIb//+p4QAouK0ghE/y20zAAAAFkGac0nhClJlMCG//qeEAGldbIMju2gAAAAOQZ6RRTRML/8APh+30+AAAAAQAZ6wdEK/AIEqR34APt14wQAAABABnrJqQr8AgSpHezx9uvGAAAAAGUGatEmoQWiZTAhv//6nhACnYrSCET/LbSsAAAAYQZrXSeEKUmUwIZ/+nhACj+6b6KlZr36nAAAAD0Ge9UU0TCv/AIbK4EmgQAAAAA4BnxZqQr8Ahwal/A5IhwAAABpBmxhJqEFomUwIb//+p4QAbH2D/CcFuhJqQQAAAB1BmzpJ4QpSZTBREsM//p4QAQ74h/gsAaeG2CqMEAAAABABn1lqQr8AOKEAnXgCf62BAAAAGUGbW0nhDomUwIb//qeEAB0fYP8JwW6E4sAAAAAcQZt9SeEPJlMFFTw3//6nhAAS746fcFOwmiaDcQAAABABn5xqQr8ADzBAJ14AoFWBAAAAGUGbnknhDyZTAhv//qeEAAfL2D/CcFuhesAAAAAZQZu/SeEPJlMCG//+p4QABSPdT9RxoSISQAAAAB1Bm8FJ4Q8mUwURPDv//qmWAAGq9pfs8vxhmttEkwAAAA8Bn+BqQr8AArLWUzbMj14AAAAZQZvkSeEPJlMCHf/+qZYAAZb2l4WoJ/ZEwQAAAA9BngJFETwr/wACjtbiEUAAAAAQAZ4jakK/AAJ1bW2GerTIgQAAAB5BmihJqEFomUwId//+qZYAAmP0c0s6hBmgSbb4hEEAAAAQQZ5GRREsL/8AAtc+vWooXQAAAA8BnmV0Qr8AAn0YQGSXu4EAAAAQAZ5nakK/AAPLzhr3mlatwAAAABNBmmxJqEFsmUwId//+qZYAAJWAAAAADEGeikUVLC//AACygQAAAA8Bnql0Qr8AA8zYGh5zzOkAAAAPAZ6rakK/AAPLzholc8zpAAAAE0GasEmoQWyZTAh3//6plgAAlYEAAAAMQZ7ORRUsL/8AALKBAAAADwGe7XRCvwADzNgaHnPM6QAAAA8Bnu9qQr8AA8vOGiVzzOkAAAATQZr0SahBbJlMCHf//qmWAACVgAAAAAxBnxJFFSwv/wAAsoEAAAAPAZ8xdEK/AAPM2Boec8zpAAAAEAGfM2pCvwADrKG9itH3bYAAAAAcQZs4SahBbJlMCHf//qmWAAJT8efzNCoFopiJZwAAABBBn1ZFFSwv/wACxUCK0pGkAAAADwGfdXRCvwADzNga6+N0gQAAABABn3dqQr8AA7YRM030kIFxAAAAE0GbfEmoQWyZTAh3//6plgAAlYAAAAAMQZ+aRRUsL/8AALKBAAAADwGfuXRCvwACdWUcR2XadwAAAA8Bn7tqQr8AAnVlG6z1aZEAAAASQZugSahBbJlMCG///qeEAAEnAAAADEGf3kUVLC//AACygAAAAA8Bn/10Qr8AAnVlHEdl2ncAAAAPAZ//akK/AAJ1ZRus9WmRAAAAGkGb40moQWyZTAhv//6nhAADIurSCET/LqWAAAAAEUGeAUUVLCv/AAKPYVgkJXFxAAAADgGeImpCvwACj2JiuBlEAAAAGkGaJEmoQWyZTAhv//6nhAADNurSCET/LqCBAAAAHUGaRknhClJlMFFSw3/+p4QABRsVqmP9W7fYP2PpAAAADwGeZWpCvwAEF2eW4bNriwAAABlBmmdJ4Q6JlMCHf/6plgAD5pkJNw4KPn6xAAAAGkGai0nhDyZTAh3//qmWAAPr7S/r+uhwTl9wAAAAEEGeqUURPC//AAS2gM11w8AAAAAQAZ7IdEK/AAZwAAMkt/s9QQAAAA8BnspqQr8ABkkrYwrOBsAAAAATQZrPSahBaJlMCHf//qmWAACVgAAAAAxBnu1FESwv/wAAsoEAAAAQAZ8MdEK/AAPuob2XVfxbQQAAABABnw5qQr8AA+6hvYrR92NBAAAAE0GbE0moQWyZTAh3//6plgAAlYAAAAAMQZ8xRRUsL/8AALKAAAAAEAGfUHRCvwAD7qG9l1X8W0EAAAAQAZ9SakK/AAPuob2K0fdjQAAAABpBm1ZJqEFsmUwId//+qZYAA9CZCTcOCj5/MAAAABJBn3RFFSwr/wAGSdqBCRj+I0EAAAAOAZ+VakK/AAZJ2q6frJoAAAAfQZuYSahBbJlMFEw7//6plgAD1fCj37L1dazlBuIn4QAAABABn7dqQr8ABkiO3OtDDBrBAAAAEkGbvEnhClJlMCHf/qmWAACVgAAAAAxBn9pFNEwv/wAAsoEAAAAQAZ/5dEK/AAPYob2XVfxdwAAAABABn/tqQr8AA9ihvYrR92ZBAAAAE0Gb4EmoQWiZTAh3//6plgAAlYEAAAAMQZ4eRREsL/8AALKAAAAAEAGePXRCvwAD2KG9l1X8XcAAAAAQAZ4/akK/AAPYob2K0fdmQQAAABNBmiRJqEFsmUwId//+qZYAAJWAAAAADEGeQkUVLC//AACygQAAABABnmF0Qr8AA9ihvZdV/F3AAAAAEAGeY2pCvwAD2KG9itH3ZkEAAAAcQZpoSahBbJlMCHf//qmWAAJz8efy7PahZCl1UQAAABBBnoZFFSwv/wAC6UCClD3JAAAADwGepXRCvwAGIsq7vN4JQQAAAA8BnqdqQr8AA+IP6pFAlukAAAATQZqsSahBbJlMCHf//qmWAACVgAAAAAxBnspFFSwv/wAAsoEAAAAPAZ7pdEK/AAKPaO6O2+JvAAAADwGe62pCvwACjqNEFqPNhwAAABxBmvBJqEFsmUwId//+qZYAAlBR1CDNAp9GP1BlAAAAEEGfDkUVLC//AALFQIrSkaUAAAAPAZ8tdEK/AAPMTwbOpcDhAAAAEAGfL2pCvwADts+Y3Q5IQLgAAAATQZs0SahBbJlMCHf//qmWAACVgAAAAAxBn1JFFSwv/wAAsoEAAAAQAZ9xdEK/AAOsob2XVfxiQAAAABABn3NqQr8AA6yhvYrR922AAAAAHEGbeEmoQWyZTAhv//6nhAAEm+On3Wlmam3RePkAAAAQQZ+WRRUsL/8AAsVAitKRpAAAAA8Bn7V0Qr8AA7Zfi4D9A8EAAAAQAZ+3akK/AAPMrg1x4q3RIQAAABtBm7tJqEFsmUwIb//+p4QABLUAWbbaA3/+ByAAAAAPQZ/ZRRUsK/8AA8wP+dohAAAADQGf+mpCvwADzWBQNw4AAAATQZv9SahBbJlMFEw3//6nhAABJwAAABABnhxqQr8AA8KwDezx92mBAAAAEkGaH0nhClJlMFLDf/6nhAABJwAAABABnj5qQr8AA8KwDezx92mAAAAAEUGaI0nhDomUwIb//qeEAAEnAAAADEGeQUUVPC//AACygAAAABABnmB0Qr8AA8KwDfgA+7TBAAAADwGeYmpCvwADwrALrPVo6QAAABpBmmRJqEFomUwIb//+p4QABNR8xyTuNmDJ0QAAABlBmoVJ4QpSZTAh3/6plgACgaWVxml/bFfBAAAAEUGaqUnhDomUwIb//qeEAAEnAAAADEGex0URPC//AACygQAAAA8BnuZ0Qr8ABBdx3R23xAUAAAAQAZ7oakK/AAPuob2K0fdjQAAAABxBmutJqEFomUwU8N/+p4QABP/dT9zIwtmKEdJtAAAADwGfCmpCvwAD+A/qkUCW3wAAABlBmwxJ4QpSZTAh3/6plgABlvaXhagn9kTAAAAAEkGbMEnhDomUwId//qmWAACVgQAAAAxBn05FETwv/wAAsoEAAAAPAZ9tdEK/AAJ1ZRxHZdp3AAAAEAGfb2pCvwADzW4Dn9aB0/gAAAAcQZtySahBaJlMFPDv/qmWAAJQUdQgzQKfRj9QZAAAABABn5FqQr8AA8vOGveaVq3BAAAAEkGblknhClJlMCHf/qmWAACVgAAAAAxBn7RFNEwv/wAAsoAAAAAQAZ/TdEK/AAOsob2XVfxiQQAAABABn9VqQr8AA6yhvYrR922AAAAAE0Gb2kmoQWiZTAh3//6plgAAlYEAAAAMQZ/4RREsL/8AALKBAAAAEAGeF3RCvwADrKG9l1X8YkAAAAAPAZ4ZakK/AAPLzholc8zpAAAAE0GaHkmoQWyZTAh3//6plgAAlYAAAAAMQZ48RRUsL/8AALKBAAAADwGeW3RCvwADzNgaHnPM6QAAABABnl1qQr8AA6yhvYrR922AAAAAEkGaQkmoQWyZTAhv//6nhAABJwAAAAxBnmBFFSwv/wAAsoEAAAAQAZ6fdEK/AAOsob2XVfxiQAAAAA8BnoFqQr8AA8vOGiVzzOkAAAASQZqGSahBbJlMCGf//p4QAAR8AAAADEGepEUVLC//AACygQAAAA8BnsN0Qr8AA8zYGh5zzOkAAAAPAZ7FakK/AAPLzholc8zpAAAAGkGayUuoQhBbJEYIKAfyAf2HgCFf/jhAABFxAAAAKEGe50UVLCv/Aq9j7UHE3arDSSblqoYHLLW7zSogmiyW2nxRgO+yvKAAAAAlAZ8IakK/Aq9j7UHE3arDSSblqoYHLLW7zSogmiyW8FuEB/AXwAAAC+htb292AAAAbG12aGQAAAAAAAAAAAAAAAAAAAPoAAAfkAABAAABAAAAAAAAAAAAAAAAAQAAAAAAAAAAAAAAAAAAAAEAAAAAAAAAAAAAAAAAAEAAAAAAAAAAAAAAAAAAAAAAAAAAAAAAAAAAAAAAAAACAAALEnRyYWsAAABcdGtoZAAAAAMAAAAAAAAAAAAAAAEAAAAAAAAfkAAAAAAAAAAAAAAAAAAAAAAAAQAAAAAAAAAAAAAAAAAAAAEAAAAAAAAAAAAAAAAAAEAAAAABEAAAARAAAAAAACRlZHRzAAAAHGVsc3QAAAAAAAAAAQAAH5AAAAQAAAEAAAAACoptZGlhAAAAIG1kaGQAAAAAAAAAAAAAAAAAADIAAAGUAFXEAAAAAAAtaGRscgAAAAAAAAAAdmlkZQAAAAAAAAAAAAAAAFZpZGVvSGFuZGxlcgAAAAo1bWluZgAAABR2bWhkAAAAAQAAAAAAAAAAAAAAJGRpbmYAAAAcZHJlZgAAAAAAAAABAAAADHVybCAAAAABAAAJ9XN0YmwAAACVc3RzZAAAAAAAAAABAAAAhWF2YzEAAAAAAAAAAQAAAAAAAAAAAAAAAAAAAAABEAEQAEgAAABIAAAAAAAAAAEAAAAAAAAAAAAAAAAAAAAAAAAAAAAAAAAAAAAAAAAAAAAY//8AAAAvYXZjQwH0AA3/4QAXZ/QADZGbKCIR0IAAAAMAgAAAGQeKFMsBAAVo6+PESAAAABhzdHRzAAAAAAAAAAEAAADKAAACAAAAABRzdHNzAAAAAAAAAAEAAAABAAAFwGN0dHMAAAAAAAAAtgAAAAcAAAQAAAAAAQAACgAAAAABAAAEAAAAAAEAAAAAAAAAAQAAAgAAAAABAAAEAAAAAAEAAAgAAAAAAgAAAgAAAAABAAAEAAAAAAEAAAgAAAAAAgAAAgAAAAACAAAEAAAAAAEAAAYAAAAAAQAAAgAAAAACAAAEAAAAAAEAAAYAAAAAAQAAAgAAAAACAAAEAAAAAAEAAAYAAAAAAQAAAgAAAAABAAAEAAAAAAEAAAoAAAAAAQAABAAAAAABAAAAAAAAAAEAAAIAAAAAAQAABAAAAAABAAAGAAAAAAEAAAIAAAAAAQAABAAAAAABAAAKAAAAAAEAAAQAAAAAAQAAAAAAAAABAAACAAAAAAEAAAgAAAAAAgAAAgAAAAABAAAEAAAAAAEAAAoAAAAAAQAABAAAAAABAAAAAAAAAAEAAAIAAAAAAQAABAAAAAABAAAIAAAAAAIAAAIAAAAAAQAABAAAAAABAAAGAAAAAAEAAAIAAAAAAQAABAAAAAABAAAGAAAAAAEAAAIAAAAAAgAABAAAAAABAAAGAAAAAAEAAAIAAAAAAQAACAAAAAACAAACAAAAAAEAAAoAAAAAAQAABAAAAAABAAAAAAAAAAEAAAIAAAAAAQAACgAAAAABAAAEAAAAAAEAAAAAAAAAAQAAAgAAAAABAAAKAAAAAAEAAAQAAAAAAQAAAAAAAAABAAACAAAAAAEAAAoAAAAAAQAABAAAAAABAAAAAAAAAAEAAAIAAAAAAQAACgAAAAABAAAEAAAAAAEAAAAAAAAAAQAAAgAAAAABAAAKAAAAAAEAAAQAAAAAAQAAAAAAAAABAAACAAAAAAEAAAoAAAAAAQAABAAAAAABAAAAAAAAAAEAAAIAAAAAAQAACAAAAAACAAACAAAAAAEAAAQAAAAAAQAABgAAAAABAAACAAAAAAEAAAQAAAAAAQAACgAAAAABAAAEAAAAAAEAAAAAAAAAAQAAAgAAAAABAAAKAAAAAAEAAAQAAAAAAQAAAAAAAAABAAACAAAAAAEAAAoAAAAAAQAABAAAAAABAAAAAAAAAAEAAAIAAAAAAQAACAAAAAACAAACAAAAAAEAAAYAAAAAAQAAAgAAAAABAAAKAAAAAAEAAAQAAAAAAQAAAAAAAAABAAACAAAAAAEAAAoAAAAAAQAABAAAAAABAAAAAAAAAAEAAAIAAAAAAQAACgAAAAABAAAEAAAAAAEAAAAAAAAAAQAAAgAAAAABAAAKAAAAAAEAAAQAAAAAAQAAAAAAAAABAAACAAAAAAEAAAoAAAAAAQAABAAAAAABAAAAAAAAAAEAAAIAAAAAAQAACgAAAAABAAAEAAAAAAEAAAAAAAAAAQAAAgAAAAABAAAKAAAAAAEAAAQAAAAAAQAAAAAAAAABAAACAAAAAAEAAAoAAAAAAQAABAAAAAABAAAAAAAAAAEAAAIAAAAAAQAACAAAAAACAAACAAAAAAEAAAYAAAAAAQAAAgAAAAABAAAGAAAAAAEAAAIAAAAAAQAACgAAAAABAAAEAAAAAAEAAAAAAAAAAQAAAgAAAAACAAAEAAAAAAEAAAoAAAAAAQAABAAAAAABAAAAAAAAAAEAAAIAAAAAAQAABgAAAAABAAACAAAAAAEAAAQAAAAAAQAACgAAAAABAAAEAAAAAAEAAAAAAAAAAQAAAgAAAAABAAAGAAAAAAEAAAIAAAAAAQAACgAAAAABAAAEAAAAAAEAAAAAAAAAAQAAAgAAAAABAAAKAAAAAAEAAAQAAAAAAQAAAAAAAAABAAACAAAAAAEAAAoAAAAAAQAABAAAAAABAAAAAAAAAAEAAAIAAAAAAQAACgAAAAABAAAEAAAAAAEAAAAAAAAAAQAAAgAAAAABAAAKAAAAAAEAAAQAAAAAAQAAAAAAAAABAAACAAAAAAEAAAgAAAAAAgAAAgAAAAAcc3RzYwAAAAAAAAABAAAAAQAAAMoAAAABAAADPHN0c3oAAAAAAAAAAAAAAMoAAAXDAAAAFwAAABsAAAAcAAAAHAAAABwAAAAdAAAAIQAAABYAAAAUAAAAFAAAAB4AAAAdAAAAFAAAABIAAAAdAAAAHAAAABYAAAAUAAAAHQAAAB0AAAAjAAAAFAAAABsAAAAcAAAAIgAAABQAAAAfAAAAHAAAABsAAAATAAAAHAAAACMAAAAWAAAAFAAAAB4AAAAeAAAAIgAAABQAAAAdAAAAIAAAABUAAAASAAAAFAAAAB4AAAAWAAAAEgAAAB0AAAAaAAAAEgAAABQAAAAUAAAAHQAAABwAAAATAAAAEgAAAB4AAAAhAAAAFAAAAB0AAAAgAAAAFAAAAB0AAAAdAAAAIQAAABMAAAAdAAAAEwAAABQAAAAiAAAAFAAAABMAAAAUAAAAFwAAABAAAAATAAAAEwAAABcAAAAQAAAAEwAAABMAAAAXAAAAEAAAABMAAAAUAAAAIAAAABQAAAATAAAAFAAAABcAAAAQAAAAEwAAABMAAAAWAAAAEAAAABMAAAATAAAAHgAAABUAAAASAAAAHgAAACEAAAATAAAAHQAAAB4AAAAUAAAAFAAAABMAAAAXAAAAEAAAABQAAAAUAAAAFwAAABAAAAAUAAAAFAAAAB4AAAAWAAAAEgAAACMAAAAUAAAAFgAAABAAAAAUAAAAFAAAABcAAAAQAAAAFAAAABQAAAAXAAAAEAAAABQAAAAUAAAAIAAAABQAAAATAAAAEwAAABcAAAAQAAAAEwAAABMAAAAgAAAAFAAAABMAAAAUAAAAFwAAABAAAAAUAAAAFAAAACAAAAAUAAAAEwAAABQAAAAfAAAAEwAAABEAAAAXAAAAFAAAABYAAAAUAAAAFQAAABAAAAAUAAAAEwAAAB4AAAAdAAAAFQAAABAAAAATAAAAFAAAACAAAAATAAAAHQAAABYAAAAQAAAAEwAAABQAAAAgAAAAFAAAABYAAAAQAAAAFAAAABQAAAAXAAAAEAAAABQAAAATAAAAFwAAABAAAAATAAAAFAAAABYAAAAQAAAAFAAAABMAAAAWAAAAEAAAABMAAAATAAAAHgAAACwAAAApAAAAFHN0Y28AAAAAAAAAAQAAADAAAABidWR0YQAAAFptZXRhAAAAAAAAACFoZGxyAAAAAAAAAABtZGlyYXBwbAAAAAAAAAAAAAAAAC1pbHN0AAAAJal0b28AAAAdZGF0YQAAAAEAAAAATGF2ZjU4LjIwLjEwMA==\" type=\"video/mp4\" />\n",
       "             </video>"
      ],
      "text/plain": [
       "<IPython.core.display.HTML object>"
      ]
     },
     "execution_count": 12,
     "metadata": {},
     "output_type": "execute_result"
    }
   ],
   "source": [
    "env = Environment(grid_size=size, max_time=T, temperature=0.3)\n",
    "agent = DQN_FC(size, lr=.1, epsilon = 0.1, memory_size=2000, batch_size = 32)\n",
    "train(agent, env, epochs_train, prefix='fc_train')\n",
    "HTML(display_videos('fc_train10.mp4'))"
   ]
  },
  {
   "cell_type": "markdown",
   "metadata": {},
   "source": [
    "***\n",
    "***\n",
    "__Question 8__ Implement the DQN training algorithm using a CNN (for example, 2 convolutional layers and one final fully connected layer)."
   ]
  },
  {
   "cell_type": "code",
   "execution_count": 13,
   "metadata": {},
   "outputs": [],
   "source": [
    "class DQN_CNN(DQN):\n",
    "    def __init__(self, *args,lr=0.1,**kwargs):\n",
    "        super(DQN_CNN, self).__init__(*args,**kwargs)\n",
    "        \n",
    "        \n",
    "    \n",
    "        \n",
    "        model = Sequential()\n",
    "        model.add(Conv2D(32, (2,2), input_shape=(5,5,self.n_state), activation='relu'))\n",
    "        model.add(Conv2D(32, (2,2), activation='relu'))\n",
    "        model.add(Dropout(0.2))\n",
    "        model.add(Flatten())\n",
    "        model.add(Dense(4, activation='linear'))\n",
    "        model.compile(sgd(lr=lr, decay=1e-4, momentum=0.0), \"mse\")\n",
    "        self.model = model"
   ]
  },
  {
   "cell_type": "code",
   "execution_count": 14,
   "metadata": {},
   "outputs": [
    {
     "name": "stdout",
     "output_type": "stream",
     "text": [
      "Epoch 000/020 | Loss 0.0123 | Win/lose count 3.5/8.0 (-4.5)\n",
      "Epoch 001/020 | Loss 0.0040 | Win/lose count 6.5/2.0 (4.5)\n",
      "Epoch 002/020 | Loss 0.0125 | Win/lose count 4.0/3.0 (1.0)\n",
      "Epoch 003/020 | Loss 0.0227 | Win/lose count 10.0/7.0 (3.0)\n",
      "Epoch 004/020 | Loss 0.1266 | Win/lose count 16.5/2.0 (14.5)\n",
      "Epoch 005/020 | Loss 0.0734 | Win/lose count 18.5/5.0 (13.5)\n",
      "Epoch 006/020 | Loss 0.2651 | Win/lose count 12.5/6.0 (6.5)\n",
      "Epoch 007/020 | Loss 0.2538 | Win/lose count 18.0/5.0 (13.0)\n",
      "Epoch 008/020 | Loss 0.3786 | Win/lose count 18.0/5.0 (13.0)\n",
      "Epoch 009/020 | Loss 0.3707 | Win/lose count 17.0/5.0 (12.0)\n",
      "Epoch 010/020 | Loss 0.6231 | Win/lose count 15.5/1.0 (14.5)\n",
      "Epoch 011/020 | Loss 0.2422 | Win/lose count 20.5/9.0 (11.5)\n",
      "Epoch 012/020 | Loss 0.3343 | Win/lose count 23.0/4.0 (19.0)\n",
      "Epoch 013/020 | Loss 0.4475 | Win/lose count 9.5/2.0 (7.5)\n",
      "Epoch 014/020 | Loss 0.5429 | Win/lose count 24.0/5.0 (19.0)\n",
      "Epoch 015/020 | Loss 0.3250 | Win/lose count 15.0/2.0 (13.0)\n",
      "Epoch 016/020 | Loss 0.1908 | Win/lose count 21.5/8.0 (13.5)\n",
      "Epoch 017/020 | Loss 0.6228 | Win/lose count 21.0/3.0 (18.0)\n",
      "Epoch 018/020 | Loss 0.1844 | Win/lose count 14.5/4.0 (10.5)\n",
      "Epoch 019/020 | Loss 0.4098 | Win/lose count 24.0/4.0 (20.0)\n"
     ]
    },
    {
     "data": {
      "text/html": [
       "<video alt=\"test\" controls>\n",
       "                <source src=\"data:video/mp4;base64,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\" type=\"video/mp4\" />\n",
       "             </video>"
      ],
      "text/plain": [
       "<IPython.core.display.HTML object>"
      ]
     },
     "execution_count": 14,
     "metadata": {},
     "output_type": "execute_result"
    }
   ],
   "source": [
    "env = Environment(grid_size=size, max_time=T, temperature=0.3)\n",
    "agent = DQN_CNN(size, lr=.1, epsilon = 0.1, memory_size=2000, batch_size = 32)\n",
    "train(agent,env,epochs_train,prefix='cnn_train')\n",
    "HTML(display_videos('cnn_train10.mp4'))"
   ]
  },
  {
   "cell_type": "markdown",
   "metadata": {},
   "source": [
    "***\n",
    "***\n",
    "__Question 9__ Test both algorithms and compare their performances. Which issue(s) do you observe? Observe also different behaviors by changing the temperature."
   ]
  },
  {
   "cell_type": "code",
   "execution_count": 16,
   "metadata": {},
   "outputs": [
    {
     "name": "stderr",
     "output_type": "stream",
     "text": [
      "/anaconda3/lib/python3.6/site-packages/ipykernel_launcher.py:83: UserWarning: Update your `Dense` call to the Keras 2 API: `Dense(128, input_shape=(50,), activation=\"relu\", kernel_initializer=\"uniform\")`\n",
      "/anaconda3/lib/python3.6/site-packages/ipykernel_launcher.py:84: UserWarning: Update your `Dense` call to the Keras 2 API: `Dense(64, activation=\"relu\", kernel_initializer=\"uniform\")`\n",
      "/anaconda3/lib/python3.6/site-packages/ipykernel_launcher.py:85: UserWarning: Update your `Dense` call to the Keras 2 API: `Dense(32, activation=\"relu\", kernel_initializer=\"uniform\")`\n",
      "/anaconda3/lib/python3.6/site-packages/ipykernel_launcher.py:88: UserWarning: Update your `Dense` call to the Keras 2 API: `Dense(4, activation=\"linear\", kernel_initializer=\"uniform\")`\n"
     ]
    },
    {
     "name": "stdout",
     "output_type": "stream",
     "text": [
      "Test of the CNN\n",
      "Win/lose count 0.5/0. Average score (0.5)\n",
      "Win/lose count 0/0. Average score (0.25)\n",
      "Win/lose count 1.0/1.0. Average score (0.16666666666666666)\n",
      "Win/lose count 1.0/1.0. Average score (0.125)\n",
      "Win/lose count 0.5/1.0. Average score (0.0)\n",
      "Win/lose count 1.0/1.0. Average score (0.0)\n",
      "Win/lose count 0/0. Average score (0.0)\n",
      "Win/lose count 0.5/0. Average score (0.0625)\n",
      "Win/lose count 0/0. Average score (0.05555555555555555)\n",
      "Win/lose count 1.0/0. Average score (0.15)\n",
      "Win/lose count 1.5/1.0. Average score (0.18181818181818182)\n",
      "Win/lose count 0/0. Average score (0.16666666666666666)\n",
      "Win/lose count 1.0/0. Average score (0.23076923076923078)\n",
      "Win/lose count 0.5/3.0. Average score (0.03571428571428571)\n",
      "Win/lose count 3.0/2.0. Average score (0.1)\n",
      "Win/lose count 0.5/0. Average score (0.125)\n",
      "Win/lose count 1.0/0. Average score (0.17647058823529413)\n",
      "Win/lose count 0.5/3.0. Average score (0.027777777777777776)\n",
      "Win/lose count 0/2.0. Average score (-0.07894736842105263)\n",
      "Win/lose count 0.5/0. Average score (-0.05)\n",
      "Final score: -0.05\n",
      "Test of the FC\n",
      "Win/lose count 1.0/0. Average score (1.0)\n",
      "Win/lose count 0.5/1.0. Average score (0.25)\n",
      "Win/lose count 0.5/0. Average score (0.3333333333333333)\n",
      "Win/lose count 2.0/3.0. Average score (0.0)\n",
      "Win/lose count 2.5/0. Average score (0.5)\n",
      "Win/lose count 2.5/3.0. Average score (0.3333333333333333)\n",
      "Win/lose count 0.5/0. Average score (0.35714285714285715)\n",
      "Win/lose count 0.5/1.0. Average score (0.25)\n",
      "Win/lose count 0/0. Average score (0.2222222222222222)\n",
      "Win/lose count 1.0/5.0. Average score (-0.2)\n",
      "Win/lose count 0.5/2.0. Average score (-0.3181818181818182)\n",
      "Win/lose count 1.0/1.0. Average score (-0.2916666666666667)\n",
      "Win/lose count 0/1.0. Average score (-0.34615384615384615)\n",
      "Win/lose count 1.5/0. Average score (-0.21428571428571427)\n",
      "Win/lose count 1.0/0. Average score (-0.13333333333333333)\n",
      "Win/lose count 0/1.0. Average score (-0.1875)\n",
      "Win/lose count 1.5/6.0. Average score (-0.4411764705882353)\n",
      "Win/lose count 0/0. Average score (-0.4166666666666667)\n",
      "Win/lose count 0.5/0. Average score (-0.3684210526315789)\n",
      "Win/lose count 1.5/1.0. Average score (-0.325)\n",
      "Final score: -0.325\n"
     ]
    }
   ],
   "source": [
    "env = Environment(grid_size=size, max_time=T,temperature=0.3)\n",
    "agent_cnn = DQN_CNN(size, lr=.1, epsilon = 0.1, memory_size=2000, batch_size = 32)\n",
    "agent_cnn.load(name_weights='cnn_trainmodel.h5',name_model='cnn_trainmodel.json')\n",
    "\n",
    "agent_fc = DQN_FC(size, lr=.1, epsilon = 0.1, memory_size=2000, batch_size = 32)\n",
    "agent_cnn.load(name_weights='fc_trainmodel.h5',name_model='fc_trainmodel.json')\n",
    "print('Test of the CNN')\n",
    "test(agent_cnn,env,epochs_test,prefix='cnn_test')\n",
    "print('Test of the FC')\n",
    "test(agent_fc,env,epochs_test,prefix='fc_test')"
   ]
  },
  {
   "cell_type": "code",
   "execution_count": 17,
   "metadata": {},
   "outputs": [
    {
     "data": {
      "text/html": [
       "<video alt=\"test\" controls>\n",
       "                <source src=\"data:video/mp4;base64,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\" type=\"video/mp4\" />\n",
       "             </video>"
      ],
      "text/plain": [
       "<IPython.core.display.HTML object>"
      ]
     },
     "execution_count": 17,
     "metadata": {},
     "output_type": "execute_result"
    }
   ],
   "source": [
    "HTML(display_videos('cnn_test10.mp4'))"
   ]
  },
  {
   "cell_type": "code",
   "execution_count": 18,
   "metadata": {},
   "outputs": [
    {
     "data": {
      "text/html": [
       "<video alt=\"test\" controls>\n",
       "                <source src=\"data:video/mp4;base64,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\" type=\"video/mp4\" />\n",
       "             </video>"
      ],
      "text/plain": [
       "<IPython.core.display.HTML object>"
      ]
     },
     "execution_count": 18,
     "metadata": {},
     "output_type": "execute_result"
    }
   ],
   "source": [
    "HTML(display_videos('fc_test10.mp4'))"
   ]
  },
  {
   "cell_type": "markdown",
   "metadata": {},
   "source": [
    "- First we observe that the model'sexploration rate is low. In fact, only the current board is explored. Another observation is the performance of both CNN and FC models, where we notice that the CNN model outperforms the FC model.\n",
    "\n",
    "- Changing the temperature results in better scores. However, this approach is biased and cannot be considered as a good solution since it is playing with the binomial law."
   ]
  },
  {
   "cell_type": "markdown",
   "metadata": {},
   "source": [
    "***\n",
    "\n",
    "The algorithm tends to not explore the map which can be an issue. We propose two ideas in order to encourage exploration:\n",
    "1. Incorporating a decreasing $\\epsilon$-greedy exploration. You can use the method ```set_epsilon```\n",
    "2. Append via the environment a new state that describes if a cell has been visited or not\n",
    "\n",
    "***\n",
    "__Question 10__ Design a new ```train_explore``` function and environment class ```EnvironmentExploring``` to tackle the issue of exploration.\n",
    "\n"
   ]
  },
  {
   "cell_type": "code",
   "execution_count": 19,
   "metadata": {},
   "outputs": [],
   "source": [
    "def train_explore(agent,env,epoch,prefix=''):\n",
    "    # Number of won games\n",
    "    score = 0\n",
    "    loss = 0\n",
    "\n",
    "    for e in range(epoch):\n",
    "        # At each epoch, we restart to a fresh game and get the initial state\n",
    "        state = env.reset()\n",
    "        # This assumes that the games will terminate\n",
    "        game_over = False\n",
    "\n",
    "        win = 0\n",
    "        lose = 0\n",
    "\n",
    "        while not game_over:\n",
    "            \n",
    "            # Epsilon-greedy \n",
    "            agent.set_epsilon(np.float(agent.get_epsilon())*0.995)\n",
    "            \n",
    "            # The agent performs an action\n",
    "            action = agent.act(state)\n",
    "\n",
    "            # Apply an action to the environment, get the next state, the reward\n",
    "            # and if the games end\n",
    "            prev_state = state\n",
    "            state, reward, game_over = env.act(action, train=True)\n",
    "\n",
    "            # Update the counters\n",
    "            if reward > 0:\n",
    "                win = win + reward\n",
    "            if reward < 0:\n",
    "                lose = lose - reward\n",
    "\n",
    "            # Apply the reinforcement strategy\n",
    "            loss = agent.reinforce(prev_state, state,  action, reward, game_over)\n",
    "            \n",
    "        # Save as a mp4       \n",
    "        env.draw(prefix+str(e))\n",
    "\n",
    "        # Update stats\n",
    "        score += win-lose\n",
    "\n",
    "        print(\"Epoch {:03d}/{:03d} | Loss {:.4f} | Win/lose count {}/{} ({})\"\n",
    "              .format(e, epoch, loss, win, lose, win-lose))\n",
    "        agent.save(name_weights=prefix+'model.h5',name_model=prefix+'model.json')\n",
    "        \n",
    "class EnvironmentExploring(object):\n",
    "    def __init__(self, grid_size=10, max_time=500, temperature=0.1):\n",
    "        grid_size = grid_size + 4\n",
    "        self.grid_size = grid_size\n",
    "        self.max_time = max_time\n",
    "        self.temperature = temperature\n",
    "        \n",
    "        self.board = np.zeros([grid_size,grid_size])\n",
    "        self.position = np.zeros([grid_size,grid_size])\n",
    "        self.malus_position = np.zeros([grid_size,grid_size])\n",
    "        \n",
    "        # coordinate of the rat\n",
    "        self.x = 0\n",
    "        self.y = 1\n",
    "        \n",
    "        # self time\n",
    "        self.t = 0\n",
    "\n",
    "        self.scale=16\n",
    "\n",
    "        self.to_draw = np.zeros((max_time+2, grid_size*self.scale, grid_size*self.scale, 3))\n",
    "        \n",
    "    def get_t(self):\n",
    "        return self.t\n",
    "    \n",
    "    def draw(self,e):\n",
    "        skvideo.io.vwrite(str(e) + '.mp4', self.to_draw)\n",
    "\n",
    "    def get_frame(self,t):\n",
    "        b = np.zeros((self.grid_size,self.grid_size,3))+128\n",
    "        b[self.board>0,0] = 256\n",
    "        b[self.board < 0, 2] = 256\n",
    "        b[self.x,self.y,:]=256\n",
    "        b[-2:,:,:]=0\n",
    "        b[:,-2:,:]=0\n",
    "        b[:2,:,:]=0\n",
    "        b[:,:2,:]=0\n",
    "        \n",
    "        b =  cv2.resize(b, None, fx=self.scale, fy=self.scale, interpolation=cv2.INTER_NEAREST)\n",
    "\n",
    "        self.to_draw[t,:,:,:]=b\n",
    "             \n",
    "        \n",
    "    def act(self, action, train=True):\n",
    "        \"\"\"This function returns the new state, reward and decides if the\n",
    "        game ends.\"\"\"\n",
    "\n",
    "        self.get_frame(int(self.t))\n",
    "\n",
    "        self.position = np.zeros((self.grid_size, self.grid_size))\n",
    "\n",
    "        self.position[0:2,:]= -1\n",
    "        self.position[:,0:2] = -1\n",
    "        self.position[-2:, :] = -1\n",
    "        self.position[:, -2:] = -1\n",
    "\n",
    "        self.position[self.x, self.y] = 1\n",
    "        \n",
    "        if action == 0:\n",
    "            if self.x == self.grid_size-3:\n",
    "                self.x = self.x-1\n",
    "            else:\n",
    "                self.x = self.x + 1\n",
    "        elif action == 1:\n",
    "            if self.x == 2:\n",
    "                self.x = self.x+1\n",
    "            else:\n",
    "                self.x = self.x-1\n",
    "        elif action == 2:\n",
    "            if self.y == self.grid_size - 3:\n",
    "                self.y = self.y - 1\n",
    "            else:\n",
    "                self.y = self.y + 1\n",
    "        elif action == 3:\n",
    "            if self.y == 2:\n",
    "                self.y = self.y + 1\n",
    "            else:\n",
    "                self.y = self.y - 1\n",
    "        else:\n",
    "            RuntimeError('Error: action not recognized')\n",
    "        \n",
    "        self.t = self.t + 1\n",
    "        \n",
    "        ## In Environment exploring:\n",
    "        # You will have to change n_state to 3 because you will use one more layer!\n",
    "        reward = 0\n",
    "        if train:\n",
    "            reward -= self.malus_position[self.x, self.y]\n",
    "\n",
    "        self.malus_position[self.x, self.y] = 0.01\n",
    "        reward = reward + self.board[self.x, self.y]\n",
    "        self.board[self.x, self.y] = 0\n",
    "        game_over = self.t > self.max_time\n",
    "\n",
    "        # 3 \"feature\" states instead of 2\n",
    "        state = np.concatenate((self.malus_position.reshape(self.grid_size, self.grid_size,1),\n",
    "                                self.board.reshape(self.grid_size, self.grid_size,1),\n",
    "                                self.position.reshape(self.grid_size, self.grid_size,1)),axis=2)\n",
    "        \n",
    "        state = state[self.x-2:self.x+3,self.y-2:self.y+3,:]\n",
    "        \n",
    "        return state, reward, game_over\n",
    "    def reset(self):\n",
    "        \"\"\"This function resets the game and returns the initial state\"\"\"\n",
    "\n",
    "        self.x = np.random.randint(3, self.grid_size-3, size=1)[0]\n",
    "        self.y = np.random.randint(3, self.grid_size-3, size=1)[0]\n",
    "\n",
    "\n",
    "        bonus = 0.5*np.random.binomial(1,self.temperature,size=self.grid_size**2)\n",
    "        bonus = bonus.reshape(self.grid_size,self.grid_size)\n",
    "\n",
    "        malus = -1.0*np.random.binomial(1,self.temperature,size=self.grid_size**2)\n",
    "        malus = malus.reshape(self.grid_size, self.grid_size)\n",
    "\n",
    "        self.to_draw = np.zeros((self.max_time+2, self.grid_size*self.scale, self.grid_size*self.scale, 3))\n",
    "\n",
    "\n",
    "        malus[bonus>0]=0\n",
    "\n",
    "        self.board = bonus + malus\n",
    "\n",
    "        self.position = np.zeros((self.grid_size, self.grid_size))\n",
    "        self.position[0:2,:]= -1\n",
    "        self.position[:,0:2] = -1\n",
    "        self.position[-2:, :] = -1\n",
    "        self.position[:, -2:] = -1\n",
    "        self.board[self.x,self.y] = 0\n",
    "       \n",
    "        self.malus_position[self.x, self.y] = 0\n",
    "\n",
    "        self.t = 0\n",
    "\n",
    "        state = np.concatenate((self.malus_position.reshape(self.grid_size, self.grid_size,1),\n",
    "                                self.board.reshape(self.grid_size, self.grid_size,1),\n",
    "                                self.position.reshape(self.grid_size, self.grid_size,1)),axis=2)\n",
    "\n",
    "        state = state[self.x - 2:self.x + 3, self.y - 2:self.y + 3, :]\n",
    "        \n",
    "        return state"
   ]
  },
  {
   "cell_type": "code",
   "execution_count": 20,
   "metadata": {},
   "outputs": [
    {
     "name": "stdout",
     "output_type": "stream",
     "text": [
      "Epoch 000/020 | Loss 0.0020 | Win/lose count 1.0/5.86999999999996 (-4.86999999999996)\n",
      "Epoch 001/020 | Loss 0.0029 | Win/lose count 2.0/3.90999999999996 (-1.9099999999999602)\n",
      "Epoch 002/020 | Loss 0.0006 | Win/lose count 0.5/1.9300000000000015 (-1.4300000000000015)\n",
      "Epoch 003/020 | Loss 0.0023 | Win/lose count 5.49/2.799999999999984 (2.6900000000000164)\n",
      "Epoch 004/020 | Loss 0.0085 | Win/lose count 2.0/3.9199999999999733 (-1.9199999999999733)\n",
      "Epoch 005/020 | Loss 0.0064 | Win/lose count 3.4400000000000004/3.899999999999963 (-0.45999999999996266)\n",
      "Epoch 006/020 | Loss 0.0040 | Win/lose count 4.420000000000001/2.8999999999999813 (1.5200000000000196)\n",
      "Epoch 007/020 | Loss 0.0053 | Win/lose count 5.49/3.7999999999999625 (1.6900000000000377)\n",
      "Epoch 008/020 | Loss 0.0147 | Win/lose count 4.410000000000001/2.919999999999981 (1.4900000000000202)\n",
      "Epoch 009/020 | Loss 0.0020 | Win/lose count 10.850000000000001/4.719999999999965 (6.130000000000036)\n",
      "Epoch 010/020 | Loss 0.0047 | Win/lose count 2.49/1.9100000000000015 (0.5799999999999987)\n",
      "Epoch 011/020 | Loss 0.0151 | Win/lose count 0.98/1.9800000000000015 (-1.0000000000000016)\n",
      "Epoch 012/020 | Loss 0.0019 | Win/lose count 6.8900000000000015/1.8300000000000014 (5.0600000000000005)\n",
      "Epoch 013/020 | Loss 0.0046 | Win/lose count 1.47/2.97999999999998 (-1.50999999999998)\n",
      "Epoch 014/020 | Loss 0.0173 | Win/lose count 7.8400000000000025/1.8500000000000014 (5.990000000000001)\n",
      "Epoch 015/020 | Loss 0.0430 | Win/lose count 3.920000000000001/4.929999999999981 (-1.0099999999999802)\n",
      "Epoch 016/020 | Loss 0.0014 | Win/lose count 1.47/2.97999999999998 (-1.50999999999998)\n",
      "Epoch 017/020 | Loss 0.0120 | Win/lose count 6.3900000000000015/5.8699999999999735 (0.520000000000028)\n",
      "Epoch 018/020 | Loss 0.0121 | Win/lose count 11.850000000000003/1.7700000000000014 (10.080000000000002)\n",
      "Epoch 019/020 | Loss 0.0551 | Win/lose count 14.240000000000004/3.7099999999999795 (10.530000000000024)\n"
     ]
    },
    {
     "data": {
      "text/html": [
       "<video alt=\"test\" controls>\n",
       "                <source src=\"data:video/mp4;base64,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\" type=\"video/mp4\" />\n",
       "             </video>"
      ],
      "text/plain": [
       "<IPython.core.display.HTML object>"
      ]
     },
     "execution_count": 20,
     "metadata": {},
     "output_type": "execute_result"
    }
   ],
   "source": [
    "# Training\n",
    "env = EnvironmentExploring(grid_size=size, max_time=T, temperature=0.3)\n",
    "agent = DQN_CNN(size, lr=.1, epsilon = 0.1, memory_size=2000, batch_size = 32,n_state=3)\n",
    "train_explore(agent, env, epochs_train, prefix='cnn_train_explore')\n",
    "HTML(display_videos('cnn_train_explore10.mp4'))"
   ]
  },
  {
   "cell_type": "code",
   "execution_count": 27,
   "metadata": {},
   "outputs": [
    {
     "name": "stdout",
     "output_type": "stream",
     "text": [
      "Win/lose count 10.780000000000003/1.7900000000000014. Average score (8.990000000000002)\n",
      "Win/lose count 8.330000000000002/1.8200000000000014. Average score (7.750000000000001)\n",
      "Win/lose count 11.770000000000003/2.769999999999984. Average score (8.166666666666673)\n",
      "Win/lose count 1.96/1.9700000000000015. Average score (6.122500000000004)\n",
      "Win/lose count 1.47/1.9800000000000015. Average score (4.796000000000003)\n",
      "Win/lose count 5.3900000000000015/3.8899999999999633. Average score (4.246666666666676)\n",
      "Win/lose count 1.47/1.9800000000000015. Average score (3.5671428571428647)\n",
      "Win/lose count 10.310000000000002/2.7999999999999834. Average score (4.060000000000009)\n",
      "Win/lose count 6.860000000000002/1.8600000000000014. Average score (4.164444444444452)\n",
      "Win/lose count 5.3900000000000015/1.9000000000000015. Average score (4.0970000000000075)\n",
      "Win/lose count 6.860000000000002/2.8399999999999825. Average score (4.090000000000009)\n",
      "Win/lose count 3.920000000000001/1.9200000000000015. Average score (3.915833333333341)\n",
      "Win/lose count 0.98/1.9900000000000015. Average score (3.5369230769230837)\n",
      "Win/lose count 6.860000000000002/1.8700000000000014. Average score (3.640714285714292)\n",
      "Win/lose count 1.47/1.9800000000000015. Average score (3.364000000000005)\n",
      "Win/lose count 1.47/2.96999999999998. Average score (3.0600000000000063)\n",
      "Win/lose count 8.820000000000002/3.8199999999999656. Average score (3.1741176470588317)\n",
      "Win/lose count 1.47/3.9799999999999605. Average score (2.858333333333343)\n",
      "Win/lose count 0.98/1.9800000000000015. Average score (2.6552631578947454)\n",
      "Win/lose count 3.920000000000001/1.9200000000000015. Average score (2.6225000000000085)\n",
      "Final score: 2.6225000000000085\n"
     ]
    },
    {
     "data": {
      "text/html": [
       "<video alt=\"test\" controls>\n",
       "                <source src=\"data:video/mp4;base64,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\" type=\"video/mp4\" />\n",
       "             </video>"
      ],
      "text/plain": [
       "<IPython.core.display.HTML object>"
      ]
     },
     "execution_count": 27,
     "metadata": {},
     "output_type": "execute_result"
    }
   ],
   "source": [
    "# Evaluation\n",
    "test(agent,env,epochs_test,prefix='cnn_test_explore')\n",
    "HTML(display_videos('cnn_test_explore10.mp4'))"
   ]
  },
  {
   "cell_type": "markdown",
   "metadata": {},
   "source": [
    "***\n",
    "***\n",
    "__BONUS question__ Use the expert DQN from the previous question to generate some winning games. Train a model that mimicks its behavior. Compare the performances."
   ]
  },
  {
   "cell_type": "markdown",
   "metadata": {},
   "source": []
  },
  {
   "cell_type": "markdown",
   "metadata": {},
   "source": [
    "***"
   ]
  }
 ],
 "metadata": {
  "kernelspec": {
   "display_name": "Python 3",
   "language": "python",
   "name": "python3"
  },
  "language_info": {
   "codemirror_mode": {
    "name": "ipython",
    "version": 3
   },
   "file_extension": ".py",
   "mimetype": "text/x-python",
   "name": "python",
   "nbconvert_exporter": "python",
   "pygments_lexer": "ipython3",
   "version": "3.6.7"
  }
 },
 "nbformat": 4,
 "nbformat_minor": 2
}
